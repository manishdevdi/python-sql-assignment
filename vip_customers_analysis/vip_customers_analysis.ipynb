{
 "cells": [
  {
   "cell_type": "markdown",
   "id": "5fbfc8c9-606b-44f0-ae47-df05f04a167d",
   "metadata": {},
   "source": [
    "# Project: Retail Analytics - VIP Customer Identification"
   ]
  },
  {
   "cell_type": "markdown",
   "id": "dac4f685-4659-4b57-8d7c-2e6113d64266",
   "metadata": {},
   "source": [
    "## Task Title: Identify VIP Customers Based on Purchase Behavior & Membership\n"
   ]
  },
  {
   "cell_type": "markdown",
   "id": "e9b535c1-dda5-402f-a063-3a2d163a497c",
   "metadata": {},
   "source": [
    "### Objective:"
   ]
  },
  {
   "cell_type": "markdown",
   "id": "114fcfd2-052f-4eb2-87d2-4bdd3500d404",
   "metadata": {},
   "source": [
    " 1. Find customers who made total purchases over $250.\n",
    " 2. Among those, return only Gold members."
   ]
  },
  {
   "cell_type": "markdown",
   "id": "2f143031-2c5f-4b66-b0ce-3d3a3628c97b",
   "metadata": {},
   "source": [
    "### Data Sources:"
   ]
  },
  {
   "cell_type": "markdown",
   "id": "64218127-5400-4047-84f1-7cf2a24903ad",
   "metadata": {},
   "source": [
    "🔹 purchases.csv\n",
    "🔹 members.csv"
   ]
  },
  {
   "cell_type": "markdown",
   "id": "eea72307-9325-419e-9bb7-77bcae31f789",
   "metadata": {},
   "source": [
    "### Final Output:\n",
    "🔸 customer_id\n",
    "🔸 total_spent\n",
    "🔸 membership_level"
   ]
  },
  {
   "cell_type": "markdown",
   "id": "4e42dca4-5546-4e3c-ab2b-618a59910cc2",
   "metadata": {},
   "source": [
    "### Methodology:\n",
    "1. Performed an INNER JOIN on customer_id.\n",
    "2. Aggregated total purchase amount using groupby.\n",
    "3. Filtered customers with:\n",
    "     - total_spent > 250\n",
    "     - membership_level = 'Gold'"
   ]
  },
  {
   "cell_type": "markdown",
   "id": "dd835c05-ba7c-4f3a-b821-33abaa6529ef",
   "metadata": {},
   "source": [
    "### Tools Used:\n",
    "- Python with Pandas\n",
    "- SQL for relational DB alternative"
   ]
  },
  {
   "cell_type": "markdown",
   "id": "01ed0873-e9c2-4aae-97c7-8f0c6e97c334",
   "metadata": {},
   "source": [
    "### Importing the pandas library to work with CSV files and dataframes"
   ]
  },
  {
   "cell_type": "code",
   "execution_count": 2,
   "id": "d524a34e-50aa-4c31-9b5f-a9f6776917a4",
   "metadata": {},
   "outputs": [],
   "source": [
    "import pandas as pd"
   ]
  },
  {
   "cell_type": "markdown",
   "id": "0786b722-f595-47ad-ac02-10fd18bc097e",
   "metadata": {},
   "source": [
    "### STEP 1: Simulate the purchases data"
   ]
  },
  {
   "cell_type": "code",
   "execution_count": 13,
   "id": "0194c4e8-cc99-4761-ab3e-5c85d7d17d70",
   "metadata": {},
   "outputs": [
    {
     "data": {
      "text/html": [
       "<div>\n",
       "<style scoped>\n",
       "    .dataframe tbody tr th:only-of-type {\n",
       "        vertical-align: middle;\n",
       "    }\n",
       "\n",
       "    .dataframe tbody tr th {\n",
       "        vertical-align: top;\n",
       "    }\n",
       "\n",
       "    .dataframe thead th {\n",
       "        text-align: right;\n",
       "    }\n",
       "</style>\n",
       "<table border=\"1\" class=\"dataframe\">\n",
       "  <thead>\n",
       "    <tr style=\"text-align: right;\">\n",
       "      <th></th>\n",
       "      <th>transaction_id</th>\n",
       "      <th>customer_id</th>\n",
       "      <th>amount</th>\n",
       "      <th>transaction_date</th>\n",
       "    </tr>\n",
       "  </thead>\n",
       "  <tbody>\n",
       "    <tr>\n",
       "      <th>0</th>\n",
       "      <td>T1001</td>\n",
       "      <td>C001</td>\n",
       "      <td>120.5</td>\n",
       "      <td>2024-03-15</td>\n",
       "    </tr>\n",
       "    <tr>\n",
       "      <th>1</th>\n",
       "      <td>T1002</td>\n",
       "      <td>C002</td>\n",
       "      <td>200.0</td>\n",
       "      <td>2024-03-15</td>\n",
       "    </tr>\n",
       "    <tr>\n",
       "      <th>2</th>\n",
       "      <td>T1003</td>\n",
       "      <td>C001</td>\n",
       "      <td>300.0</td>\n",
       "      <td>2024-03-16</td>\n",
       "    </tr>\n",
       "    <tr>\n",
       "      <th>3</th>\n",
       "      <td>T1004</td>\n",
       "      <td>C003</td>\n",
       "      <td>50.0</td>\n",
       "      <td>2024-03-17</td>\n",
       "    </tr>\n",
       "  </tbody>\n",
       "</table>\n",
       "</div>"
      ],
      "text/plain": [
       "  transaction_id customer_id  amount transaction_date\n",
       "0          T1001        C001   120.5       2024-03-15\n",
       "1          T1002        C002   200.0       2024-03-15\n",
       "2          T1003        C001   300.0       2024-03-16\n",
       "3          T1004        C003    50.0       2024-03-17"
      ]
     },
     "execution_count": 13,
     "metadata": {},
     "output_type": "execute_result"
    }
   ],
   "source": [
    "purchases_data = {\n",
    "    \"transaction_id\": ['T1001', 'T1002', 'T1003', 'T1004'],\n",
    "    \"customer_id\": ['C001', 'C002', 'C001', 'C003'],\n",
    "    \"amount\": [120.50, 200.00, 300.00, 50.00],\n",
    "    \"transaction_date\": ['2024-03-15', '2024-03-15', '2024-03-16', '2024-03-17']\n",
    "}\n",
    "purchases = pd.DataFrame(purchases_data)\n",
    "purchases"
   ]
  },
  {
   "cell_type": "markdown",
   "id": "1eda7bce-071c-4348-9602-7f2e60ea7b92",
   "metadata": {},
   "source": [
    "### STEP 2: Simulate the members data"
   ]
  },
  {
   "cell_type": "code",
   "execution_count": 12,
   "id": "d21860e6-1475-484e-a102-f0dd0a325460",
   "metadata": {},
   "outputs": [
    {
     "data": {
      "text/html": [
       "<div>\n",
       "<style scoped>\n",
       "    .dataframe tbody tr th:only-of-type {\n",
       "        vertical-align: middle;\n",
       "    }\n",
       "\n",
       "    .dataframe tbody tr th {\n",
       "        vertical-align: top;\n",
       "    }\n",
       "\n",
       "    .dataframe thead th {\n",
       "        text-align: right;\n",
       "    }\n",
       "</style>\n",
       "<table border=\"1\" class=\"dataframe\">\n",
       "  <thead>\n",
       "    <tr style=\"text-align: right;\">\n",
       "      <th></th>\n",
       "      <th>customer_id</th>\n",
       "      <th>member_since</th>\n",
       "      <th>membership_level</th>\n",
       "    </tr>\n",
       "  </thead>\n",
       "  <tbody>\n",
       "    <tr>\n",
       "      <th>0</th>\n",
       "      <td>C001</td>\n",
       "      <td>2023-05-01</td>\n",
       "      <td>Gold</td>\n",
       "    </tr>\n",
       "    <tr>\n",
       "      <th>1</th>\n",
       "      <td>C002</td>\n",
       "      <td>2023-11-15</td>\n",
       "      <td>Silver</td>\n",
       "    </tr>\n",
       "    <tr>\n",
       "      <th>2</th>\n",
       "      <td>C004</td>\n",
       "      <td>2024-01-10</td>\n",
       "      <td>Gold</td>\n",
       "    </tr>\n",
       "  </tbody>\n",
       "</table>\n",
       "</div>"
      ],
      "text/plain": [
       "  customer_id member_since membership_level\n",
       "0        C001   2023-05-01             Gold\n",
       "1        C002   2023-11-15           Silver\n",
       "2        C004   2024-01-10             Gold"
      ]
     },
     "execution_count": 12,
     "metadata": {},
     "output_type": "execute_result"
    }
   ],
   "source": [
    "members_data = {\n",
    "    \"customer_id\": ['C001', 'C002', 'C004'],\n",
    "    \"member_since\": ['2023-05-01', '2023-11-15', '2024-01-10'],\n",
    "    \"membership_level\": ['Gold', 'Silver', 'Gold']\n",
    "}\n",
    "members = pd.DataFrame(members_data)\n",
    "members"
   ]
  },
  {
   "cell_type": "markdown",
   "id": "a24310fa-b17e-41d8-8efc-930b2fc80ef5",
   "metadata": {},
   "source": [
    "### STEP 3: Merge both DataFrames"
   ]
  },
  {
   "cell_type": "code",
   "execution_count": 10,
   "id": "0316f118-92bc-407e-b7bb-7ef6f577475c",
   "metadata": {},
   "outputs": [
    {
     "data": {
      "text/html": [
       "<div>\n",
       "<style scoped>\n",
       "    .dataframe tbody tr th:only-of-type {\n",
       "        vertical-align: middle;\n",
       "    }\n",
       "\n",
       "    .dataframe tbody tr th {\n",
       "        vertical-align: top;\n",
       "    }\n",
       "\n",
       "    .dataframe thead th {\n",
       "        text-align: right;\n",
       "    }\n",
       "</style>\n",
       "<table border=\"1\" class=\"dataframe\">\n",
       "  <thead>\n",
       "    <tr style=\"text-align: right;\">\n",
       "      <th></th>\n",
       "      <th>transaction_id</th>\n",
       "      <th>customer_id</th>\n",
       "      <th>amount</th>\n",
       "      <th>transaction_date</th>\n",
       "      <th>member_since</th>\n",
       "      <th>membership_level</th>\n",
       "    </tr>\n",
       "  </thead>\n",
       "  <tbody>\n",
       "    <tr>\n",
       "      <th>0</th>\n",
       "      <td>T1001</td>\n",
       "      <td>C001</td>\n",
       "      <td>120.5</td>\n",
       "      <td>2024-03-15</td>\n",
       "      <td>2023-05-01</td>\n",
       "      <td>Gold</td>\n",
       "    </tr>\n",
       "    <tr>\n",
       "      <th>1</th>\n",
       "      <td>T1003</td>\n",
       "      <td>C001</td>\n",
       "      <td>300.0</td>\n",
       "      <td>2024-03-16</td>\n",
       "      <td>2023-05-01</td>\n",
       "      <td>Gold</td>\n",
       "    </tr>\n",
       "    <tr>\n",
       "      <th>2</th>\n",
       "      <td>T1002</td>\n",
       "      <td>C002</td>\n",
       "      <td>200.0</td>\n",
       "      <td>2024-03-15</td>\n",
       "      <td>2023-11-15</td>\n",
       "      <td>Silver</td>\n",
       "    </tr>\n",
       "  </tbody>\n",
       "</table>\n",
       "</div>"
      ],
      "text/plain": [
       "  transaction_id customer_id  amount transaction_date member_since  \\\n",
       "0          T1001        C001   120.5       2024-03-15   2023-05-01   \n",
       "1          T1003        C001   300.0       2024-03-16   2023-05-01   \n",
       "2          T1002        C002   200.0       2024-03-15   2023-11-15   \n",
       "\n",
       "  membership_level  \n",
       "0             Gold  \n",
       "1             Gold  \n",
       "2           Silver  "
      ]
     },
     "execution_count": 10,
     "metadata": {},
     "output_type": "execute_result"
    }
   ],
   "source": [
    "merged_df = pd.merge(purchases, members, on=\"customer_id\", how=\"inner\")\n",
    "merged_df"
   ]
  },
  {
   "cell_type": "markdown",
   "id": "2382c00a-0f8c-4940-96ac-cc4ab6aac240",
   "metadata": {},
   "source": [
    "### STEP 4: Filter only Gold members"
   ]
  },
  {
   "cell_type": "code",
   "execution_count": 14,
   "id": "d74cb218-7d18-4da7-96fe-d9de087b2740",
   "metadata": {},
   "outputs": [
    {
     "data": {
      "text/html": [
       "<div>\n",
       "<style scoped>\n",
       "    .dataframe tbody tr th:only-of-type {\n",
       "        vertical-align: middle;\n",
       "    }\n",
       "\n",
       "    .dataframe tbody tr th {\n",
       "        vertical-align: top;\n",
       "    }\n",
       "\n",
       "    .dataframe thead th {\n",
       "        text-align: right;\n",
       "    }\n",
       "</style>\n",
       "<table border=\"1\" class=\"dataframe\">\n",
       "  <thead>\n",
       "    <tr style=\"text-align: right;\">\n",
       "      <th></th>\n",
       "      <th>transaction_id</th>\n",
       "      <th>customer_id</th>\n",
       "      <th>amount</th>\n",
       "      <th>transaction_date</th>\n",
       "      <th>member_since</th>\n",
       "      <th>membership_level</th>\n",
       "    </tr>\n",
       "  </thead>\n",
       "  <tbody>\n",
       "    <tr>\n",
       "      <th>0</th>\n",
       "      <td>T1001</td>\n",
       "      <td>C001</td>\n",
       "      <td>120.5</td>\n",
       "      <td>2024-03-15</td>\n",
       "      <td>2023-05-01</td>\n",
       "      <td>Gold</td>\n",
       "    </tr>\n",
       "    <tr>\n",
       "      <th>1</th>\n",
       "      <td>T1003</td>\n",
       "      <td>C001</td>\n",
       "      <td>300.0</td>\n",
       "      <td>2024-03-16</td>\n",
       "      <td>2023-05-01</td>\n",
       "      <td>Gold</td>\n",
       "    </tr>\n",
       "  </tbody>\n",
       "</table>\n",
       "</div>"
      ],
      "text/plain": [
       "  transaction_id customer_id  amount transaction_date member_since  \\\n",
       "0          T1001        C001   120.5       2024-03-15   2023-05-01   \n",
       "1          T1003        C001   300.0       2024-03-16   2023-05-01   \n",
       "\n",
       "  membership_level  \n",
       "0             Gold  \n",
       "1             Gold  "
      ]
     },
     "execution_count": 14,
     "metadata": {},
     "output_type": "execute_result"
    }
   ],
   "source": [
    "gold_members = merged_df[merged_df[\"membership_level\"] == \"Gold\"]\n",
    "gold_members"
   ]
  },
  {
   "cell_type": "markdown",
   "id": "002139fa-0e44-4aae-886a-ce277d7b40bd",
   "metadata": {},
   "source": [
    "### STEP 5: Group by customer_id and calculate total_spent"
   ]
  },
  {
   "cell_type": "code",
   "execution_count": 17,
   "id": "042410dd-24bf-494a-b5f1-2ce6ffbdc159",
   "metadata": {},
   "outputs": [
    {
     "data": {
      "text/html": [
       "<div>\n",
       "<style scoped>\n",
       "    .dataframe tbody tr th:only-of-type {\n",
       "        vertical-align: middle;\n",
       "    }\n",
       "\n",
       "    .dataframe tbody tr th {\n",
       "        vertical-align: top;\n",
       "    }\n",
       "\n",
       "    .dataframe thead th {\n",
       "        text-align: right;\n",
       "    }\n",
       "</style>\n",
       "<table border=\"1\" class=\"dataframe\">\n",
       "  <thead>\n",
       "    <tr style=\"text-align: right;\">\n",
       "      <th></th>\n",
       "      <th>customer_id</th>\n",
       "      <th>membership_level</th>\n",
       "      <th>amount</th>\n",
       "    </tr>\n",
       "  </thead>\n",
       "  <tbody>\n",
       "    <tr>\n",
       "      <th>0</th>\n",
       "      <td>C001</td>\n",
       "      <td>Gold</td>\n",
       "      <td>420.5</td>\n",
       "    </tr>\n",
       "  </tbody>\n",
       "</table>\n",
       "</div>"
      ],
      "text/plain": [
       "  customer_id membership_level  amount\n",
       "0        C001             Gold   420.5"
      ]
     },
     "execution_count": 17,
     "metadata": {},
     "output_type": "execute_result"
    }
   ],
   "source": [
    "vip_summary = gold_members.groupby([\"customer_id\", \"membership_level\"])[\"amount\"].sum().reset_index()\n",
    "vip_summary"
   ]
  },
  {
   "cell_type": "markdown",
   "id": "0061bfbb-0b80-447a-8e43-b3fe54d555b2",
   "metadata": {},
   "source": [
    "### STEP 6: Filter those with total_spent > 250"
   ]
  },
  {
   "cell_type": "code",
   "execution_count": 18,
   "id": "52bbad80-b0c0-4dbf-831f-160c3047adcc",
   "metadata": {},
   "outputs": [
    {
     "data": {
      "text/html": [
       "<div>\n",
       "<style scoped>\n",
       "    .dataframe tbody tr th:only-of-type {\n",
       "        vertical-align: middle;\n",
       "    }\n",
       "\n",
       "    .dataframe tbody tr th {\n",
       "        vertical-align: top;\n",
       "    }\n",
       "\n",
       "    .dataframe thead th {\n",
       "        text-align: right;\n",
       "    }\n",
       "</style>\n",
       "<table border=\"1\" class=\"dataframe\">\n",
       "  <thead>\n",
       "    <tr style=\"text-align: right;\">\n",
       "      <th></th>\n",
       "      <th>customer_id</th>\n",
       "      <th>membership_level</th>\n",
       "      <th>amount</th>\n",
       "    </tr>\n",
       "  </thead>\n",
       "  <tbody>\n",
       "    <tr>\n",
       "      <th>0</th>\n",
       "      <td>C001</td>\n",
       "      <td>Gold</td>\n",
       "      <td>420.5</td>\n",
       "    </tr>\n",
       "  </tbody>\n",
       "</table>\n",
       "</div>"
      ],
      "text/plain": [
       "  customer_id membership_level  amount\n",
       "0        C001             Gold   420.5"
      ]
     },
     "execution_count": 18,
     "metadata": {},
     "output_type": "execute_result"
    }
   ],
   "source": [
    "vip_customers = vip_summary[vip_summary[\"amount\"] > 250]\n",
    "vip_customers"
   ]
  },
  {
   "cell_type": "markdown",
   "id": "1859f4d5-ef8e-4cc9-8d3c-29c403e87340",
   "metadata": {},
   "source": [
    "### STEP 7: Rename 'amount' to 'total_spent'"
   ]
  },
  {
   "cell_type": "code",
   "execution_count": 19,
   "id": "867a1a5c-5cc0-414d-95bf-f8fb81c06aa6",
   "metadata": {},
   "outputs": [],
   "source": [
    "vip_customers.rename(columns={\"amount\": \"total_spent\"}, inplace=True)"
   ]
  },
  {
   "cell_type": "markdown",
   "id": "ffa8d08d-e0ea-40d5-91a4-613493b849d4",
   "metadata": {},
   "source": [
    "### STEP 8: Show result"
   ]
  },
  {
   "cell_type": "code",
   "execution_count": 20,
   "id": "3932bd73-593e-4a70-ac05-232342d4f058",
   "metadata": {},
   "outputs": [
    {
     "name": "stdout",
     "output_type": "stream",
     "text": [
      "  customer_id membership_level  total_spent\n",
      "0        C001             Gold        420.5\n"
     ]
    }
   ],
   "source": [
    "print(vip_customers)"
   ]
  },
  {
   "cell_type": "markdown",
   "id": "ce2985ed-5731-4f6c-bf2c-c2a33ff58037",
   "metadata": {},
   "source": [
    "- Author: Manish Devdi\n",
    "- Date: April 2025"
   ]
  }
 ],
 "metadata": {
  "kernelspec": {
   "display_name": "Python 3 (ipykernel)",
   "language": "python",
   "name": "python3"
  },
  "language_info": {
   "codemirror_mode": {
    "name": "ipython",
    "version": 3
   },
   "file_extension": ".py",
   "mimetype": "text/x-python",
   "name": "python",
   "nbconvert_exporter": "python",
   "pygments_lexer": "ipython3",
   "version": "3.9.13"
  }
 },
 "nbformat": 4,
 "nbformat_minor": 5
}
