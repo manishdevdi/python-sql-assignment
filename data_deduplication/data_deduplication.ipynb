{
 "cells": [
  {
   "cell_type": "markdown",
   "id": "55eb9a4c-52c4-4284-adf5-5799ffdd1c60",
   "metadata": {},
   "source": [
    "# Data Deduplication"
   ]
  },
  {
   "cell_type": "markdown",
   "id": "16e85675-0b5a-4472-b6ad-40d422d5468e",
   "metadata": {},
   "source": [
    "### Scenario:\n",
    "A CSV contains user data but has duplicates based on email."
   ]
  },
  {
   "cell_type": "markdown",
   "id": "8651464e-9cc2-4569-bfc2-aca09152b80d",
   "metadata": {},
   "source": [
    "## Task:\n",
    "\n",
    "- Read the file.\n",
    "- Drop duplicates, keeping the most recent entry based on last_updated column.\n",
    "- Output the cleaned file"
   ]
  },
  {
   "cell_type": "markdown",
   "id": "d32c0a7e-103e-47f5-b205-cb8f0cd11605",
   "metadata": {},
   "source": [
    "### Import pandas for data manipulation"
   ]
  },
  {
   "cell_type": "code",
   "execution_count": 1,
   "id": "e7d13746-ddea-4202-bd0c-9738a1197f07",
   "metadata": {},
   "outputs": [],
   "source": [
    "import pandas as pd"
   ]
  },
  {
   "cell_type": "markdown",
   "id": "33ba13f8-91d1-42e2-87ea-0669ce10b9d6",
   "metadata": {},
   "source": [
    "## 🔹 LOAD :\n"
   ]
  },
  {
   "cell_type": "markdown",
   "id": "b7699a3b-cf83-4f21-8cbe-77c978507531",
   "metadata": {},
   "source": [
    "### Step 1: Read the user data from a CSV file\n"
   ]
  },
  {
   "cell_type": "markdown",
   "id": "9b05fa10-d570-4837-beee-f039a604dba2",
   "metadata": {},
   "source": [
    "This file may contain multiple rows with the same email\n"
   ]
  },
  {
   "cell_type": "code",
   "execution_count": 2,
   "id": "e3f0286c-d599-4998-91e9-b6bd191f02c0",
   "metadata": {},
   "outputs": [],
   "source": [
    "df = pd.read_csv('users.csv')  "
   ]
  },
  {
   "cell_type": "code",
   "execution_count": 3,
   "id": "85bd0e64-835b-4777-af73-988938cc5247",
   "metadata": {},
   "outputs": [
    {
     "data": {
      "text/html": [
       "<div>\n",
       "<style scoped>\n",
       "    .dataframe tbody tr th:only-of-type {\n",
       "        vertical-align: middle;\n",
       "    }\n",
       "\n",
       "    .dataframe tbody tr th {\n",
       "        vertical-align: top;\n",
       "    }\n",
       "\n",
       "    .dataframe thead th {\n",
       "        text-align: right;\n",
       "    }\n",
       "</style>\n",
       "<table border=\"1\" class=\"dataframe\">\n",
       "  <thead>\n",
       "    <tr style=\"text-align: right;\">\n",
       "      <th></th>\n",
       "      <th>user_id</th>\n",
       "      <th>name</th>\n",
       "      <th>email</th>\n",
       "      <th>last_updated</th>\n",
       "    </tr>\n",
       "  </thead>\n",
       "  <tbody>\n",
       "    <tr>\n",
       "      <th>0</th>\n",
       "      <td>U001</td>\n",
       "      <td>Alice</td>\n",
       "      <td>alice@example.com</td>\n",
       "      <td>01-03-2024 10:00</td>\n",
       "    </tr>\n",
       "    <tr>\n",
       "      <th>1</th>\n",
       "      <td>U002</td>\n",
       "      <td>Bob</td>\n",
       "      <td>bob@example.com</td>\n",
       "      <td>02-03-2024 12:00</td>\n",
       "    </tr>\n",
       "    <tr>\n",
       "      <th>2</th>\n",
       "      <td>U003</td>\n",
       "      <td>Alice</td>\n",
       "      <td>alice@example.com</td>\n",
       "      <td>03-03-2024 14:00</td>\n",
       "    </tr>\n",
       "    <tr>\n",
       "      <th>3</th>\n",
       "      <td>U004</td>\n",
       "      <td>Charlie</td>\n",
       "      <td>charlie@example.com</td>\n",
       "      <td>04-03-2024 16:00</td>\n",
       "    </tr>\n",
       "  </tbody>\n",
       "</table>\n",
       "</div>"
      ],
      "text/plain": [
       "  user_id     name                email      last_updated\n",
       "0    U001    Alice    alice@example.com  01-03-2024 10:00\n",
       "1    U002      Bob      bob@example.com  02-03-2024 12:00\n",
       "2    U003    Alice    alice@example.com  03-03-2024 14:00\n",
       "3    U004  Charlie  charlie@example.com  04-03-2024 16:00"
      ]
     },
     "execution_count": 3,
     "metadata": {},
     "output_type": "execute_result"
    }
   ],
   "source": [
    "df"
   ]
  },
  {
   "cell_type": "markdown",
   "id": "e8ebc3e1-575e-4e81-ae38-dce486f3d7e4",
   "metadata": {},
   "source": [
    "### Step 2: Convert the 'last_updated' column into datetime format"
   ]
  },
  {
   "cell_type": "markdown",
   "id": "dc25f389-cb3a-47e2-9b6e-bbb920b5ef9f",
   "metadata": {},
   "source": [
    "This helps us compare which entry is more recent\n"
   ]
  },
  {
   "cell_type": "code",
   "execution_count": 4,
   "id": "40bb857e-3f67-415c-a513-a19578c58d85",
   "metadata": {},
   "outputs": [],
   "source": [
    "df['last_updated'] = pd.to_datetime(df['last_updated'])"
   ]
  },
  {
   "cell_type": "markdown",
   "id": "06507978-e299-43c4-aa35-7de543e0c3d3",
   "metadata": {},
   "source": [
    "## 🔹 DEDUPLICATE :\n"
   ]
  },
  {
   "cell_type": "markdown",
   "id": "b6951c0c-6fcc-4b6b-b8d3-4cdf53437f24",
   "metadata": {},
   "source": [
    "### Step 3: Sort all entries by 'last_updated' so that the latest record comes last\n"
   ]
  },
  {
   "cell_type": "code",
   "execution_count": 5,
   "id": "dcd06b46-2d0c-492e-814c-708d40fc6723",
   "metadata": {},
   "outputs": [],
   "source": [
    "df_sorted = df.sort_values('last_updated')"
   ]
  },
  {
   "cell_type": "markdown",
   "id": "cfb04a4b-b141-449f-bd90-dcde1779440e",
   "metadata": {},
   "source": [
    "### Step 4: Remove duplicate emails, keeping only the most recent entry for each email\n"
   ]
  },
  {
   "cell_type": "code",
   "execution_count": 6,
   "id": "7a50ec67-6fe2-44ca-a1a4-1ac7f0e7f047",
   "metadata": {},
   "outputs": [],
   "source": [
    "df_cleaned = df_sorted.drop_duplicates(subset='email', keep='last')"
   ]
  },
  {
   "cell_type": "markdown",
   "id": "4e9fdde9-70de-49b2-9ab6-02fabbf6be6b",
   "metadata": {},
   "source": [
    "## 🔹 SAVE :\n"
   ]
  },
  {
   "cell_type": "markdown",
   "id": "d3fba264-15f5-4301-8dc2-3dd3d7d0c3d8",
   "metadata": {},
   "source": [
    "### Step 5: Save the cleaned, deduplicated user data to a new file\n"
   ]
  },
  {
   "cell_type": "code",
   "execution_count": 7,
   "id": "e2a16ab4-2644-40c4-b2cc-5ae7dda0fd8f",
   "metadata": {},
   "outputs": [],
   "source": [
    "df_cleaned.to_csv('deduplicated_users.csv', index=False)"
   ]
  },
  {
   "cell_type": "markdown",
   "id": "4b1b51f4-bb27-41a0-9562-c83812d2840e",
   "metadata": {},
   "source": [
    "### Confirmation message"
   ]
  },
  {
   "cell_type": "code",
   "execution_count": 8,
   "id": "1f926199-02a5-4283-99c4-7737b4ad5ce0",
   "metadata": {},
   "outputs": [
    {
     "name": "stdout",
     "output_type": "stream",
     "text": [
      "Deduplication complete. Cleaned file saved as 'deduplicated_users.csv'\n"
     ]
    }
   ],
   "source": [
    "print(\"Deduplication complete. Cleaned file saved as 'deduplicated_users.csv'\")"
   ]
  },
  {
   "cell_type": "markdown",
   "id": "7f4c01d6-3c92-47aa-9ba2-aa7ba2cffd65",
   "metadata": {},
   "source": [
    "### Step 6 (optional): Load the cleaned CSV file that we just saved"
   ]
  },
  {
   "cell_type": "markdown",
   "id": "2a418101-2896-4837-8803-3624fdc920d7",
   "metadata": {},
   "source": [
    "This helps to verify if our ETL pipeline worked correctly\n"
   ]
  },
  {
   "cell_type": "code",
   "execution_count": 10,
   "id": "e10d901d-60cd-4633-81cc-b210cb485956",
   "metadata": {},
   "outputs": [],
   "source": [
    "df_result = pd.read_csv('deduplicated_users.csv')"
   ]
  },
  {
   "cell_type": "markdown",
   "id": "1e4edc62-6f76-48db-b694-d47a30f46559",
   "metadata": {},
   "source": [
    "### Display the first 5 rows of the cleaned data"
   ]
  },
  {
   "cell_type": "markdown",
   "id": "64b0e9a6-0ae2-4db9-b77c-5a0a2b49d5f7",
   "metadata": {},
   "source": [
    "This gives a quick preview of the output without opening the file separately\n"
   ]
  },
  {
   "cell_type": "code",
   "execution_count": 11,
   "id": "21a62a36-22c1-460c-bcd8-56e95afb7ab9",
   "metadata": {},
   "outputs": [
    {
     "data": {
      "text/html": [
       "<div>\n",
       "<style scoped>\n",
       "    .dataframe tbody tr th:only-of-type {\n",
       "        vertical-align: middle;\n",
       "    }\n",
       "\n",
       "    .dataframe tbody tr th {\n",
       "        vertical-align: top;\n",
       "    }\n",
       "\n",
       "    .dataframe thead th {\n",
       "        text-align: right;\n",
       "    }\n",
       "</style>\n",
       "<table border=\"1\" class=\"dataframe\">\n",
       "  <thead>\n",
       "    <tr style=\"text-align: right;\">\n",
       "      <th></th>\n",
       "      <th>user_id</th>\n",
       "      <th>name</th>\n",
       "      <th>email</th>\n",
       "      <th>last_updated</th>\n",
       "    </tr>\n",
       "  </thead>\n",
       "  <tbody>\n",
       "    <tr>\n",
       "      <th>0</th>\n",
       "      <td>U002</td>\n",
       "      <td>Bob</td>\n",
       "      <td>bob@example.com</td>\n",
       "      <td>2024-02-03 12:00:00</td>\n",
       "    </tr>\n",
       "    <tr>\n",
       "      <th>1</th>\n",
       "      <td>U003</td>\n",
       "      <td>Alice</td>\n",
       "      <td>alice@example.com</td>\n",
       "      <td>2024-03-03 14:00:00</td>\n",
       "    </tr>\n",
       "    <tr>\n",
       "      <th>2</th>\n",
       "      <td>U004</td>\n",
       "      <td>Charlie</td>\n",
       "      <td>charlie@example.com</td>\n",
       "      <td>2024-04-03 16:00:00</td>\n",
       "    </tr>\n",
       "  </tbody>\n",
       "</table>\n",
       "</div>"
      ],
      "text/plain": [
       "  user_id     name                email         last_updated\n",
       "0    U002      Bob      bob@example.com  2024-02-03 12:00:00\n",
       "1    U003    Alice    alice@example.com  2024-03-03 14:00:00\n",
       "2    U004  Charlie  charlie@example.com  2024-04-03 16:00:00"
      ]
     },
     "execution_count": 11,
     "metadata": {},
     "output_type": "execute_result"
    }
   ],
   "source": [
    "df_result"
   ]
  }
 ],
 "metadata": {
  "kernelspec": {
   "display_name": "Python 3 (ipykernel)",
   "language": "python",
   "name": "python3"
  },
  "language_info": {
   "codemirror_mode": {
    "name": "ipython",
    "version": 3
   },
   "file_extension": ".py",
   "mimetype": "text/x-python",
   "name": "python",
   "nbconvert_exporter": "python",
   "pygments_lexer": "ipython3",
   "version": "3.9.13"
  }
 },
 "nbformat": 4,
 "nbformat_minor": 5
}
