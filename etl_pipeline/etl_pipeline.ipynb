{
 "cells": [
  {
   "cell_type": "markdown",
   "id": "45c8dacb-89c4-4e03-967c-a9fbc7ad2798",
   "metadata": {},
   "source": [
    "# ETL Pipeline Simulation"
   ]
  },
  {
   "cell_type": "markdown",
   "id": "0c1fc494-c52c-4627-aba0-c25c84e09b36",
   "metadata": {},
   "source": [
    "### Scenario: Building a mini ETL pipeline for product reviews."
   ]
  },
  {
   "cell_type": "markdown",
   "id": "d8b0bcb4-9d55-4597-9820-ca4048935f1b",
   "metadata": {},
   "source": [
    "### Task:\n",
    "● Extract: Load the file into a DataFrame.\n",
    "\n",
    "● Transform:\n",
    "1. Remove reviews with null rating or review_text.\n",
    "2. Convert rating to integer and filter out those < 1 or > 5.\n",
    "3. Extract sentiment using simple logic: if the text contains “bad”, mark as Negative;\n",
    "else Positive.\n",
    "\n",
    "● Load: Output the cleaned and enriched data to a new CSV or JSON file\n"
   ]
  },
  {
   "cell_type": "markdown",
   "id": "92fd6721-15f6-48f1-8015-b8535a84a042",
   "metadata": {},
   "source": [
    "### Importing the pandas library to work with CSV files and dataframes"
   ]
  },
  {
   "cell_type": "code",
   "execution_count": 1,
   "id": "ce417efe-7982-4c8e-8e06-47088ee0a974",
   "metadata": {},
   "outputs": [],
   "source": [
    "import pandas as pd"
   ]
  },
  {
   "cell_type": "markdown",
   "id": "021097aa-3a63-46ad-8088-b3db22352b81",
   "metadata": {},
   "source": [
    "##  🔹 EXTRACT :"
   ]
  },
  {
   "cell_type": "markdown",
   "id": "216c4ce9-45c9-4cad-bcd7-de138349b39d",
   "metadata": {},
   "source": [
    "### Step 1: Load the raw reviews CSV file into a DataFrame"
   ]
  },
  {
   "cell_type": "markdown",
   "id": "e99b2f5e-2da0-4781-8e07-0d1958d7965d",
   "metadata": {},
   "source": [
    "This file contains review_id, user_id, rating, review_text, and review_date"
   ]
  },
  {
   "cell_type": "code",
   "execution_count": 16,
   "id": "bad062b7-ae70-4f28-999f-caa4bed55ff4",
   "metadata": {},
   "outputs": [],
   "source": [
    "df = pd.read_csv('reviews.csv')  "
   ]
  },
  {
   "cell_type": "code",
   "execution_count": 3,
   "id": "eabc8301-eea8-4fb8-9eb2-fb800ea443be",
   "metadata": {},
   "outputs": [
    {
     "data": {
      "text/html": [
       "<div>\n",
       "<style scoped>\n",
       "    .dataframe tbody tr th:only-of-type {\n",
       "        vertical-align: middle;\n",
       "    }\n",
       "\n",
       "    .dataframe tbody tr th {\n",
       "        vertical-align: top;\n",
       "    }\n",
       "\n",
       "    .dataframe thead th {\n",
       "        text-align: right;\n",
       "    }\n",
       "</style>\n",
       "<table border=\"1\" class=\"dataframe\">\n",
       "  <thead>\n",
       "    <tr style=\"text-align: right;\">\n",
       "      <th></th>\n",
       "      <th>review_id</th>\n",
       "      <th>user_id</th>\n",
       "      <th>rating</th>\n",
       "      <th>review_text</th>\n",
       "      <th>review_date</th>\n",
       "    </tr>\n",
       "  </thead>\n",
       "  <tbody>\n",
       "    <tr>\n",
       "      <th>0</th>\n",
       "      <td>R101</td>\n",
       "      <td>U001</td>\n",
       "      <td>5.0</td>\n",
       "      <td>Excellent product!</td>\n",
       "      <td>01-03-2024</td>\n",
       "    </tr>\n",
       "    <tr>\n",
       "      <th>1</th>\n",
       "      <td>R102</td>\n",
       "      <td>U002</td>\n",
       "      <td>4.0</td>\n",
       "      <td>Pretty good</td>\n",
       "      <td>02-03-2024</td>\n",
       "    </tr>\n",
       "    <tr>\n",
       "      <th>2</th>\n",
       "      <td>R103</td>\n",
       "      <td>U003</td>\n",
       "      <td>NaN</td>\n",
       "      <td>NaN</td>\n",
       "      <td>03-03-2024</td>\n",
       "    </tr>\n",
       "    <tr>\n",
       "      <th>3</th>\n",
       "      <td>R104</td>\n",
       "      <td>U004</td>\n",
       "      <td>2.0</td>\n",
       "      <td>Bad quality</td>\n",
       "      <td>04-03-2024</td>\n",
       "    </tr>\n",
       "    <tr>\n",
       "      <th>4</th>\n",
       "      <td>R105</td>\n",
       "      <td>U005</td>\n",
       "      <td>1.0</td>\n",
       "      <td>Not bad</td>\n",
       "      <td>05-03-2024</td>\n",
       "    </tr>\n",
       "    <tr>\n",
       "      <th>5</th>\n",
       "      <td>R106</td>\n",
       "      <td>U006</td>\n",
       "      <td>6.0</td>\n",
       "      <td>Too good to be true</td>\n",
       "      <td>06-03-2024</td>\n",
       "    </tr>\n",
       "    <tr>\n",
       "      <th>6</th>\n",
       "      <td>R107</td>\n",
       "      <td>U007</td>\n",
       "      <td>0.0</td>\n",
       "      <td>bad product</td>\n",
       "      <td>07-03-2024</td>\n",
       "    </tr>\n",
       "    <tr>\n",
       "      <th>7</th>\n",
       "      <td>R108</td>\n",
       "      <td>U008</td>\n",
       "      <td>3.0</td>\n",
       "      <td>Terrible and bad experience</td>\n",
       "      <td>08-03-2024</td>\n",
       "    </tr>\n",
       "    <tr>\n",
       "      <th>8</th>\n",
       "      <td>R109</td>\n",
       "      <td>U009</td>\n",
       "      <td>4.0</td>\n",
       "      <td>Absolutely amazing!</td>\n",
       "      <td>09-03-2024</td>\n",
       "    </tr>\n",
       "  </tbody>\n",
       "</table>\n",
       "</div>"
      ],
      "text/plain": [
       "  review_id user_id  rating                  review_text review_date\n",
       "0      R101    U001     5.0           Excellent product!  01-03-2024\n",
       "1      R102    U002     4.0                  Pretty good  02-03-2024\n",
       "2      R103    U003     NaN                          NaN  03-03-2024\n",
       "3      R104    U004     2.0                  Bad quality  04-03-2024\n",
       "4      R105    U005     1.0                      Not bad  05-03-2024\n",
       "5      R106    U006     6.0          Too good to be true  06-03-2024\n",
       "6      R107    U007     0.0                  bad product  07-03-2024\n",
       "7      R108    U008     3.0  Terrible and bad experience  08-03-2024\n",
       "8      R109    U009     4.0          Absolutely amazing!  09-03-2024"
      ]
     },
     "execution_count": 3,
     "metadata": {},
     "output_type": "execute_result"
    }
   ],
   "source": [
    "df"
   ]
  },
  {
   "cell_type": "markdown",
   "id": "5aabd4f4-116e-43d8-87df-d8da4aef82c9",
   "metadata": {},
   "source": [
    "## 🔹 TRANSFORM :"
   ]
  },
  {
   "cell_type": "markdown",
   "id": "cfd3bb53-2449-43f4-bd30-92c9535c504c",
   "metadata": {},
   "source": [
    "### Step 2: Remove rows where either 'rating' or 'review_text' is missing"
   ]
  },
  {
   "cell_type": "markdown",
   "id": "6377aeb0-a4a5-4909-a5d6-9871d8e4e09d",
   "metadata": {},
   "source": [
    " Because we can't use a review that has no rating or no text"
   ]
  },
  {
   "cell_type": "code",
   "execution_count": 6,
   "id": "4d35bbf5-5cac-421f-98b9-ff8ce85c1e01",
   "metadata": {},
   "outputs": [],
   "source": [
    "df_cleaned = df.dropna(subset=['rating', 'review_text'])"
   ]
  },
  {
   "cell_type": "markdown",
   "id": "65d5fd52-e541-48b6-a30a-44bf32287eda",
   "metadata": {},
   "source": [
    "### Step 3: Convert the rating column to integer"
   ]
  },
  {
   "cell_type": "markdown",
   "id": "84a9c480-1ae4-467f-95dc-d2bdccf42e95",
   "metadata": {},
   "source": [
    "So that we can perform filtering using numeric comparisons"
   ]
  },
  {
   "cell_type": "code",
   "execution_count": 7,
   "id": "deb762e1-3895-4306-8c5b-df7a8d921539",
   "metadata": {},
   "outputs": [],
   "source": [
    "df_cleaned.loc[:, 'rating'] = df_cleaned['rating'].astype(int)"
   ]
  },
  {
   "cell_type": "markdown",
   "id": "5271a9e8-ce72-47ca-a2df-287058baf3ac",
   "metadata": {},
   "source": [
    "### Step 4: Keep only reviews where rating is between 1 and 5"
   ]
  },
  {
   "cell_type": "markdown",
   "id": "8d89d381-c584-414d-88bb-68cfeae3effd",
   "metadata": {},
   "source": [
    "Any rating outside this range is invalid for our analysis"
   ]
  },
  {
   "cell_type": "code",
   "execution_count": 8,
   "id": "f7845223-9933-422f-928e-30dbb1478ed4",
   "metadata": {},
   "outputs": [],
   "source": [
    "df_cleaned = df_cleaned[(df_cleaned['rating'] >= 1) & (df_cleaned['rating'] <= 5)]"
   ]
  },
  {
   "cell_type": "markdown",
   "id": "92f842aa-b344-43a0-aed1-05e14ea0fca0",
   "metadata": {},
   "source": [
    "### Step 5: Create a new column 'sentiment' to mark reviews as Positive or Negative\n"
   ]
  },
  {
   "cell_type": "markdown",
   "id": "d9c28501-0401-4186-9aa6-8978169979f3",
   "metadata": {},
   "source": [
    "If the review_text contains the word 'bad', we mark it as Negative. Otherwise, Positive."
   ]
  },
  {
   "cell_type": "code",
   "execution_count": 9,
   "id": "5dc00ce0-abbe-404d-aadb-b5f45035af60",
   "metadata": {},
   "outputs": [],
   "source": [
    "def extract_sentiment(text):\n",
    "    return 'Negative' if 'bad' in text.lower() else 'Positive'"
   ]
  },
  {
   "cell_type": "markdown",
   "id": "3eff65eb-f241-47f9-b53f-3205d01f67aa",
   "metadata": {},
   "source": [
    "### Apply the sentiment function to each review"
   ]
  },
  {
   "cell_type": "code",
   "execution_count": 10,
   "id": "d72ee37b-6c6a-4b2d-9e5c-95a900642e50",
   "metadata": {},
   "outputs": [],
   "source": [
    "df_cleaned.loc[:, 'sentiment'] = df_cleaned['review_text'].apply(extract_sentiment)"
   ]
  },
  {
   "cell_type": "markdown",
   "id": "ddf5c59b-1116-497a-a1fd-40f1d24efad6",
   "metadata": {},
   "source": [
    "## 🔹 LOAD\n"
   ]
  },
  {
   "cell_type": "markdown",
   "id": "f90fc23b-70e0-4cc7-8f65-1d42d41f9018",
   "metadata": {},
   "source": [
    "### Step 6: Save the cleaned and enriched data to a new CSV file\n"
   ]
  },
  {
   "cell_type": "code",
   "execution_count": 11,
   "id": "9a58ae25-ae23-4267-ad1d-586a2dce295e",
   "metadata": {},
   "outputs": [],
   "source": [
    "df_cleaned.to_csv('cleaned_reviews_output.csv', index=False)"
   ]
  },
  {
   "cell_type": "markdown",
   "id": "eaa26189-b1b1-4306-9193-4550e35da9dd",
   "metadata": {},
   "source": [
    "### Optional: Also save the output as JSON format for any API or backend usage"
   ]
  },
  {
   "cell_type": "code",
   "execution_count": 12,
   "id": "cf2a08a0-8ccd-4b11-90f6-db9186870c0a",
   "metadata": {},
   "outputs": [],
   "source": [
    "df_cleaned.to_json('cleaned_reviews_output.json', orient='records', lines=True)"
   ]
  },
  {
   "cell_type": "markdown",
   "id": "518d42f2-67f4-4606-ab7a-08d1adae244b",
   "metadata": {},
   "source": [
    "### Final print to confirm everything worked"
   ]
  },
  {
   "cell_type": "code",
   "execution_count": 13,
   "id": "6397effc-b8e3-4479-b94c-f2c4cf4463d0",
   "metadata": {},
   "outputs": [
    {
     "name": "stdout",
     "output_type": "stream",
     "text": [
      "ETL process complete. Output files:\n",
      "- cleaned_reviews_output.csv\n",
      "- cleaned_reviews_output.json\n"
     ]
    }
   ],
   "source": [
    "print(\"ETL process complete. Output files:\")\n",
    "print(\"- cleaned_reviews_output.csv\")\n",
    "print(\"- cleaned_reviews_output.json\")"
   ]
  },
  {
   "cell_type": "markdown",
   "id": "a895c3ad-b54a-4257-886b-a7cea100eb58",
   "metadata": {},
   "source": [
    "## 🔹 VIEW RESULT (Optional)\n"
   ]
  },
  {
   "cell_type": "markdown",
   "id": "1e2e3083-3353-4c4e-a9ea-9d7ad448685f",
   "metadata": {},
   "source": [
    "### Step 7 (optional): Load the cleaned CSV file that we just saved"
   ]
  },
  {
   "cell_type": "markdown",
   "id": "e327d1c2-26c9-467a-9350-9768654e3eb6",
   "metadata": {},
   "source": [
    "This helps to verify if our ETL pipeline worked correctly\n"
   ]
  },
  {
   "cell_type": "code",
   "execution_count": 17,
   "id": "e646adf9-c687-4730-8aa9-caf3c08162b0",
   "metadata": {},
   "outputs": [],
   "source": [
    "df_result = pd.read_csv('cleaned_reviews_output.csv')"
   ]
  },
  {
   "cell_type": "markdown",
   "id": "1dafd771-ef78-411f-bc02-0fef0eed7259",
   "metadata": {},
   "source": [
    "### Step 8: Display the first 5 rows of the cleaned data"
   ]
  },
  {
   "cell_type": "markdown",
   "id": "8e8561cb-631e-43a4-88f0-14f208810e9d",
   "metadata": {},
   "source": [
    "This gives a quick preview of the output without opening the file separately\n"
   ]
  },
  {
   "cell_type": "code",
   "execution_count": 18,
   "id": "6e747f08-7375-491c-b0ae-98c78735f6fb",
   "metadata": {},
   "outputs": [
    {
     "name": "stdout",
     "output_type": "stream",
     "text": [
      "  review_id user_id  rating                  review_text review_date sentiment\n",
      "0      R101    U001     5.0           Excellent product!  01-03-2024  Positive\n",
      "1      R102    U002     4.0                  Pretty good  02-03-2024  Positive\n",
      "2      R104    U004     2.0                  Bad quality  04-03-2024  Negative\n",
      "3      R105    U005     1.0                      Not bad  05-03-2024  Negative\n",
      "4      R108    U008     3.0  Terrible and bad experience  08-03-2024  Negative\n"
     ]
    }
   ],
   "source": [
    "print(df_result.head())"
   ]
  },
  {
   "cell_type": "markdown",
   "id": "54dc5c64-1d27-4db7-baea-9089da0151b2",
   "metadata": {},
   "source": [
    "### Step 9 (optional): Load the cleaned json file that we just saved"
   ]
  },
  {
   "cell_type": "markdown",
   "id": "a67d3e76-5e6f-4abc-8ddd-06d694a8220e",
   "metadata": {},
   "source": [
    "This helps to verify if our ETL pipeline worked correctly"
   ]
  },
  {
   "cell_type": "code",
   "execution_count": 19,
   "id": "5fde6fa5-5dda-40f5-b5b5-1bdd940a1cde",
   "metadata": {},
   "outputs": [],
   "source": [
    "df_json = pd.read_json('cleaned_reviews_output.json', lines=True)"
   ]
  },
  {
   "cell_type": "markdown",
   "id": "fb3c712b-22a1-4abe-942c-415cba9c33bd",
   "metadata": {},
   "source": [
    "### Step 10: Display the first 5 rows of the cleaned data"
   ]
  },
  {
   "cell_type": "markdown",
   "id": "1e02b1c9-e34d-4967-ab08-46e7796bafd0",
   "metadata": {},
   "source": [
    "This gives a quick preview of the output without opening the file separately\n"
   ]
  },
  {
   "cell_type": "code",
   "execution_count": 22,
   "id": "c2bb2556-2a83-46d7-9d7b-7b6846c06838",
   "metadata": {},
   "outputs": [
    {
     "name": "stdout",
     "output_type": "stream",
     "text": [
      "  review_id user_id  rating                  review_text review_date sentiment\n",
      "0      R101    U001       5           Excellent product!  01-03-2024  Positive\n",
      "1      R102    U002       4                  Pretty good  02-03-2024  Positive\n",
      "2      R104    U004       2                  Bad quality  04-03-2024  Negative\n",
      "3      R105    U005       1                      Not bad  05-03-2024  Negative\n",
      "4      R108    U008       3  Terrible and bad experience  08-03-2024  Negative\n"
     ]
    }
   ],
   "source": [
    "print(df_json.head())"
   ]
  }
 ],
 "metadata": {
  "kernelspec": {
   "display_name": "Python 3 (ipykernel)",
   "language": "python",
   "name": "python3"
  },
  "language_info": {
   "codemirror_mode": {
    "name": "ipython",
    "version": 3
   },
   "file_extension": ".py",
   "mimetype": "text/x-python",
   "name": "python",
   "nbconvert_exporter": "python",
   "pygments_lexer": "ipython3",
   "version": "3.9.13"
  }
 },
 "nbformat": 4,
 "nbformat_minor": 5
}
